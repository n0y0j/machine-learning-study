{
 "cells": [
  {
   "cell_type": "markdown",
   "metadata": {},
   "source": [
    "## Numpy ndarray 개요\n",
    "\n",
    "* ndarray 생성 np.array()"
   ]
  },
  {
   "cell_type": "code",
   "execution_count": null,
   "metadata": {},
   "outputs": [],
   "source": [
    "import numpy as np"
   ]
  },
  {
   "cell_type": "code",
   "execution_count": null,
   "metadata": {},
   "outputs": [],
   "source": [
    "list1 = [1, 2, 3]\n",
    "print(\"list1: \", list1)\n",
    "print(\"list1 type: \", type(list1))\n",
    "\n",
    "array1 = np.array(list1)\n",
    "print(\"array1: \", array1)\n",
    "print(\"array1 type: \", type(array1))"
   ]
  },
  {
   "cell_type": "markdown",
   "metadata": {},
   "source": [
    "* ndarray의 형태(shape)와 차원"
   ]
  },
  {
   "cell_type": "code",
   "execution_count": null,
   "metadata": {},
   "outputs": [],
   "source": [
    "array1 = np.array([1, 2, 3])\n",
    "print(\"array1 type: \", type(array1))\n",
    "print(\"array1 array 형태: \", array1.shape)\n",
    "\n",
    "array2 = np.array([[1, 2, 3], [2, 3, 4]])\n",
    "print(\"array2 type: \", type(array2))\n",
    "print(\"array2 array 형태: \", array2.shape)\n",
    "\n",
    "array3 = np.array([[1, 2, 3]])\n",
    "print(\"array3 type: \", type(array3))\n",
    "print(\"array3 array 형태: \", array3.shape)"
   ]
  },
  {
   "cell_type": "code",
   "execution_count": null,
   "metadata": {},
   "outputs": [],
   "source": [
    "print('array1: {:0}차원\\narray2: {:1}차원\\narray3:{:2}차원'.format(array1.ndim, array2.ndim, array3.ndim))"
   ]
  },
  {
   "cell_type": "markdown",
   "metadata": {},
   "source": [
    "* ndarray 데이터 값 타입"
   ]
  },
  {
   "cell_type": "code",
   "execution_count": null,
   "metadata": {},
   "outputs": [],
   "source": [
    "list1 = [1, 2, 3]\n",
    "array1 = np.array(list1)\n",
    "print(array1, array1.dtype)\n",
    "\n",
    "list2 = [1, 2, 'test']\n",
    "array2 = np.array(list2)\n",
    "print(array2, array2.dtype)\n",
    "\n",
    "list3 = [1, 2, 3.0]\n",
    "array3 = np.array(list3)\n",
    "print(array3, array3.dtype)"
   ]
  },
  {
   "cell_type": "markdown",
   "metadata": {},
   "source": [
    "* astype()을 통한 타입 변환"
   ]
  },
  {
   "cell_type": "code",
   "execution_count": null,
   "metadata": {},
   "outputs": [],
   "source": [
    "array_int = np.array([1, 2, 3])\n",
    "array_float = array_int.astype('float64')\n",
    "print(array_float, array_float.dtype)\n",
    "\n",
    "array_int1 = array_float.astype('int32')\n",
    "print(array_int1, array_int1.dtype)\n",
    "\n",
    "array_float1 = np.array([1.1, 2.1, 3.1])\n",
    "array_int2 = array_float1.astype('int32')\n",
    "print(array_int2, array_int2.dtype)"
   ]
  },
  {
   "cell_type": "markdown",
   "metadata": {},
   "source": [
    "* ndarray에서 axis 기반의 연산함수 수행"
   ]
  },
  {
   "cell_type": "code",
   "execution_count": null,
   "metadata": {},
   "outputs": [],
   "source": [
    "array2 = np.array([[1, 2, 3], [2, 3, 4]])\n",
    "\n",
    "print(array2.sum())\n",
    "print(array2.sum(axis=0))\n",
    "print(array2.sum(axis=1))"
   ]
  },
  {
   "cell_type": "markdown",
   "metadata": {},
   "source": [
    "* ndarray를 편리하게 생성하기 - arange, zeros, ones"
   ]
  },
  {
   "cell_type": "code",
   "execution_count": null,
   "metadata": {},
   "outputs": [],
   "source": [
    "sequence_array = np.arange(10)\n",
    "print(sequence_array)\n",
    "print(sequence_array.dtype, sequence_array.shape)"
   ]
  },
  {
   "cell_type": "code",
   "execution_count": null,
   "metadata": {},
   "outputs": [],
   "source": [
    "zero_array = np.zeros((3, 2), dtype='int32')\n",
    "print(zero_array)\n",
    "print(zero_array.dtype, zero_array.shape)\n",
    "\n",
    "one_array = np.ones((3, 2))\n",
    "print(one_array)\n",
    "print(one_array.dtype, one_array.shape)"
   ]
  },
  {
   "cell_type": "markdown",
   "metadata": {},
   "source": [
    "* ndarray의 shape를 변경하는 reshape()"
   ]
  },
  {
   "cell_type": "code",
   "execution_count": null,
   "metadata": {},
   "outputs": [],
   "source": [
    "array1 = np.arange(10)\n",
    "print('array1: \\n', array1)\n",
    "\n",
    "# 변환할 수 없는 shape의 구조를 입력하면 오류 발생\n",
    "array2 = array1.reshape(2, 5)\n",
    "print('array2: \\n', array2)\n",
    "\n",
    "array3 = array1.reshape(5, 2)\n",
    "print('array3: \\n', array3)\n"
   ]
  },
  {
   "cell_type": "markdown",
   "metadata": {},
   "source": [
    "* reshpae()에 -1 인자값을 부여하여 특정 차원으로 고정된 가변적인 ndarray 형태 변환"
   ]
  },
  {
   "cell_type": "code",
   "execution_count": null,
   "metadata": {},
   "outputs": [],
   "source": [
    "array1 = np.arange(10)\n",
    "print(array1)\n",
    "\n",
    "# axis1 = 5로 고정, axis0은 자동 변환, 2x5 형태로 변환\n",
    "array2 = array1.reshape(-1, 5)\n",
    "print('array2 shape: ', array2.shape)\n",
    "print('array2: \\n', array2)\n",
    "\n",
    "# axis0 = 5로 고정, axis1은 자동 변환, 5x2 형태로 변환\n",
    "array3 = array1.reshape(5, -1)\n",
    "print('array3 shape: ', array3.shape)\n",
    "print('array3: \\n', array3)"
   ]
  },
  {
   "cell_type": "code",
   "execution_count": null,
   "metadata": {},
   "outputs": [],
   "source": [
    "# reshape()는 (-1, 1), (-1,)와 같은 형태로 주로 사용됨\n",
    "# 1차원 ndarray를 2차원으로 또는 2차원 ndarray를 1차원으로 변환 시 사용\n",
    "array1 = np.arange(5)\n",
    "\n",
    "# 1차원 ndarray를 2차원으로 변환 (axis1은 반드시 1이어야함)\n",
    "array2d_1 = array1.reshape(-1, 1)\n",
    "print(\"array2d_1 shape: \", array2d_1.shape)\n",
    "print(\"array2d_1: \\n\", array2d_1)\n",
    "\n",
    "# 2차원 ndarray를 1차원으로 변환\n",
    "array1d = array2d_1.reshape(-1,)\n",
    "print(\"array1d shape: \", array1d.shape)\n",
    "print(\"array1d: \\n\", array1d)"
   ]
  },
  {
   "cell_type": "code",
   "execution_count": null,
   "metadata": {},
   "outputs": [],
   "source": [
    "# -1을 적용하더라도 변환이 불가능한 형태라면 오류 발생\n",
    "# array1 = np.arange(10)\n",
    "# array4 = array1.reshape(-1, 4)"
   ]
  },
  {
   "cell_type": "code",
   "execution_count": null,
   "metadata": {},
   "outputs": [],
   "source": [
    "# -1의 값은 반드시 1개의 인자만 입력\n",
    "# array1.reshape(-1, -1)"
   ]
  },
  {
   "cell_type": "markdown",
   "metadata": {},
   "source": [
    "## ndarray의 데이터 세트 선택하기 - 인덱싱(Indexing)\n",
    "\n",
    "* 특정 위치의 단일값 추출"
   ]
  },
  {
   "cell_type": "code",
   "execution_count": null,
   "metadata": {},
   "outputs": [],
   "source": [
    "array1 = np.arange(start=1, stop=10)\n",
    "print('array: '', array1)\n",
    "\n",
    "value = array1[2]\n",
    "print('value: ', value)\n",
    "print(type(value))"
   ]
  },
  {
   "cell_type": "code",
   "execution_count": null,
   "metadata": {},
   "outputs": [],
   "source": [
    "print('맨 뒤의 값: ', array1[-1], ', 맨 뒤에서 두번째 값: ', array1[-2])"
   ]
  },
  {
   "cell_type": "code",
   "execution_count": null,
   "metadata": {},
   "outputs": [],
   "source": [
    "array1[0] = 9\n",
    "array1[8] = 0\n",
    "print('array1: '', array1)"
   ]
  },
  {
   "cell_type": "code",
   "execution_count": null,
   "metadata": {},
   "outputs": [],
   "source": [
    "array1d = np.arange(start=1, stop=10)\n",
    "array2d = array1d.reshape(3, 3)\n",
    "print(array2d)\n",
    "\n",
    "print('(row=0, col=0) index: ', array2d[0, 0])\n",
    "print('(row=0, col=1) index: ', array2d[0, 1])\n",
    "print('(row=1, col=0) index: ', array2d[1, 0])\n",
    "print('(row=2, col=2) index: ', array2d[2, 2])"
   ]
  },
  {
   "cell_type": "markdown",
   "metadata": {},
   "source": [
    "* 슬라이싱(Slicing)"
   ]
  },
  {
   "cell_type": "code",
   "execution_count": null,
   "metadata": {},
   "outputs": [],
   "source": [
    "array1 = np.arange(start=1, stop=10)\n",
    "print(array1)\n",
    "\n",
    "array3 = array1[0:3]\n",
    "print(array3)\n",
    "print(type(array3))"
   ]
  },
  {
   "cell_type": "code",
   "execution_count": null,
   "metadata": {},
   "outputs": [],
   "source": [
    "array1 = np.arange(start=1, stop=10)\n",
    "\n",
    "array4 = array1[:3]\n",
    "print(array4)\n",
    "\n",
    "array5 = array1[3:]\n",
    "print(array5)\n",
    "\n",
    "array6 = array1[:]\n",
    "print(array6)"
   ]
  },
  {
   "cell_type": "code",
   "execution_count": null,
   "metadata": {},
   "outputs": [],
   "source": [
    "array1d = np.arange(start=1, stop=10)\n",
    "array2d = array1d.reshape(3, 3)\n",
    "print(array2d)\n",
    "\n",
    "print('array2d[0:2, 0:2]\\n ', array2d[0:2, 0:2])\n",
    "print('array2d[1:3, 0:3]\\n ', array2d[1:3, 0:3])\n",
    "print('array2d[1:3, :]\\n ', array2d[1:3, :])\n",
    "print('array2d[:, :]\\n ', array2d[:, :])\n",
    "print('array2d[:2, 1:]\\n ', array2d[:2, 1:])\n",
    "print('array2d[:2, 0]\\n ', array2d[:2, 0])\n",
    "print('array2d[0:2]\\n ', array2d[0:2])"
   ]
  },
  {
   "cell_type": "markdown",
   "metadata": {},
   "source": [
    "* 팬시 인덱싱(fancy indexing)"
   ]
  },
  {
   "cell_type": "code",
   "execution_count": null,
   "metadata": {},
   "outputs": [],
   "source": [
    "array1d = np.arange(start=1, stop=10)\n",
    "array2d = array1d.reshape(3, 3)\n",
    "print(array2d)\n",
    "\n",
    "array3 = array2d[[0, 1], 2]\n",
    "print('array2d[[0, 1], 2] => ', array3.tolist())\n",
    "\n",
    "array4 = array2d[[0, 2], 0:2]\n",
    "print('array2d[[0, 2], 0:2] => ', array4.tolist())\n",
    "\n",
    "array5 = array2d[[0, 1]]\n",
    "print('array2d[[0, 1]] => ', array5.tolist())"
   ]
  },
  {
   "cell_type": "markdown",
   "metadata": {},
   "source": [
    "* 불린 인덱싱(Boolean indexing)"
   ]
  },
  {
   "cell_type": "code",
   "execution_count": null,
   "metadata": {},
   "outputs": [],
   "source": [
    "array1d = np.arange(start=1, stop=10)\n",
    "print(array1d)"
   ]
  },
  {
   "cell_type": "code",
   "execution_count": null,
   "metadata": {},
   "outputs": [],
   "source": [
    "print(array1d > 5)\n",
    "\n",
    "var1 = array1d > 5\n",
    "print(\"var1: \", var1)\n",
    "print(type(var1))"
   ]
  },
  {
   "cell_type": "code",
   "execution_count": null,
   "metadata": {},
   "outputs": [],
   "source": [
    "array3 = array1d[array1d > 5]\n",
    "print('array1d > 5 불린 인덱싱 결과 값: ', array3)"
   ]
  },
  {
   "cell_type": "code",
   "execution_count": null,
   "metadata": {},
   "outputs": [],
   "source": [
    "boolean_indexes = np.array([False, False, False, False, False, True, True, True, True])\n",
    "array3 = array1d[boolean_indexes]\n",
    "print('불린 인덱스 필터링 결과: ', array3)"
   ]
  },
  {
   "cell_type": "code",
   "execution_count": null,
   "metadata": {},
   "outputs": [],
   "source": [
    "indexes = np.array([5, 6, 7, 8])\n",
    "array4 = array1d[indexes]\n",
    "print('일반 인덱스 필터링 결과: ', array4)"
   ]
  },
  {
   "cell_type": "markdown",
   "metadata": {},
   "source": [
    "## 행렬의 정렬 - sort()와 argsort()\n",
    "\n",
    "* 행렬 정렬"
   ]
  },
  {
   "cell_type": "code",
   "execution_count": null,
   "metadata": {},
   "outputs": [],
   "source": [
    "org_array = np.array([3, 1, 9, 5])\n",
    "print('원본 행렬: ', org_array)\n",
    "\n",
    "# np.sort()\n",
    "sort_array1 = np.sort(org_array)\n",
    "print(sort_array1)\n",
    "print(org_array)\n",
    "\n",
    "# ndarray.sort() - 반환값은 None이고, 원본 행렬이 정렬됨\n",
    "sort_array2 = org_array.sort()\n",
    "print(sort_array2)\n",
    "print(org_array)"
   ]
  },
  {
   "cell_type": "code",
   "execution_count": null,
   "metadata": {},
   "outputs": [],
   "source": [
    "sort_array1_desc = np.sort(org_array)[::-1]\n",
    "print('내림차순으로 정렬: ', sort_array1_desc)"
   ]
  },
  {
   "cell_type": "code",
   "execution_count": null,
   "metadata": {},
   "outputs": [],
   "source": [
    "array2d = np.array([[8, 12], [7, 1]])\n",
    "\n",
    "sort_array2d_axis0 = np.sort(array2d, axis=0)\n",
    "print('low 방향으로 정렬\\n ', sort_array2d_axis0)\n",
    "\n",
    "sort_array2d_axis1 = np.sort(array2d, axis=1)\n",
    "print('column 방향으로 정렬\\n ', sort_array2d_axis1)"
   ]
  },
  {
   "cell_type": "markdown",
   "metadata": {},
   "source": [
    "* argsort() - 정렬된 행렬의 인덱스 반환"
   ]
  },
  {
   "cell_type": "code",
   "execution_count": null,
   "metadata": {},
   "outputs": [],
   "source": [
    "org_array = np.array([3, 1, 9, 5])\n",
    "\n",
    "sort_indices = np.argsort(org_array)\n",
    "print(type(sort_indices))\n",
    "print(sort_indices)"
   ]
  },
  {
   "cell_type": "code",
   "execution_count": null,
   "metadata": {},
   "outputs": [],
   "source": [
    "org_array = np.array([3, 1, 9, 5])\n",
    "\n",
    "sort_indices = np.argsort(org_array)[::-1]\n",
    "print(type(sort_indices))\n",
    "print(sort_indices)"
   ]
  },
  {
   "cell_type": "markdown",
   "metadata": {},
   "source": [
    "* key-value 형태의 데이터를 John=78, Mike=95, Sarah=84, Kate=98, Samuel=88을 ndarray로 만들고 argsort()를 이용하여 key값을 정렬"
   ]
  },
  {
   "cell_type": "code",
   "execution_count": null,
   "metadata": {},
   "outputs": [],
   "source": [
    "name_array=np.array(['John', 'Mike', 'Sarah', 'Kate', 'Samuel'])\n",
    "score_array=np.array([78, 95, 84, 98, 88])\n",
    "\n",
    "# score_array의 정렬된 값에 해당하는 원본 행렬 위치 인덱스 반환하고 이를 이용하여 name_array에서 name값 추출.  \n",
    "sort_indices = np.argsort(score_array)\n",
    "print(\"sort indices:\", sort_indices)\n",
    "\n",
    "name_array_sort = name_array[sort_indices]\n",
    "\n",
    "score_array_sort = score_array[sort_indices]\n",
    "print(name_array_sort)\n",
    "print(score_array_sort)"
   ]
  },
  {
   "cell_type": "markdown",
   "metadata": {},
   "source": [
    "## 선형대수 연산 - 행렬 내적과 전치 행렬 구하기\n",
    "\n",
    "* 행렬 내적"
   ]
  },
  {
   "cell_type": "code",
   "execution_count": null,
   "metadata": {},
   "outputs": [],
   "source": [
    "A = np.array([[1, 2, 3],\n",
    "            [4, 5, 6]])\n",
    "B = np.array([[7, 8],\n",
    "            [9, 10],\n",
    "            [11, 12]])\n",
    "\n",
    "dot_product = np.dot(A, B)\n",
    "print('행렬 내적 결과\\n', dot_product)"
   ]
  },
  {
   "cell_type": "markdown",
   "metadata": {},
   "source": [
    "* 전치 행렬"
   ]
  },
  {
   "cell_type": "code",
   "execution_count": null,
   "metadata": {},
   "outputs": [],
   "source": [
    "A = np.array([[1, 2],\n",
    "             [3, 4]])\n",
    "\n",
    "transpose_mat = np.transpose(A)\n",
    "print('A의 전치 행렬\\n', transpose_mat)"
   ]
  }
 ],
 "metadata": {
  "kernelspec": {
   "display_name": "Python 3",
   "language": "python",
   "name": "python3"
  },
  "language_info": {
   "codemirror_mode": {
    "name": "ipython",
    "version": 3
   },
   "file_extension": ".py",
   "mimetype": "text/x-python",
   "name": "python",
   "nbconvert_exporter": "python",
   "pygments_lexer": "ipython3",
   "version": "3.8.5"
  }
 },
 "nbformat": 4,
 "nbformat_minor": 4
}
