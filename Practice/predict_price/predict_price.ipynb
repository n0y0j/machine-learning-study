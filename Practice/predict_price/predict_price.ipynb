{
 "cells": [
  {
   "cell_type": "markdown",
   "metadata": {},
   "source": [
    "## 주식, 코인 시세 예측\n",
    "\n",
    "### LSTM (Long Short Term Memory)\n",
    "* 기억(Memory)을 가지고 있는 인공지능 모델\n",
    "* 이전 데이터를 가지고 이후 데이터를 예측할 때 사용"
   ]
  },
  {
   "cell_type": "code",
   "execution_count": 1,
   "metadata": {},
   "outputs": [],
   "source": [
    "import pandas as pd\n",
    "import numpy as np\n",
    "import matplotlib.pyplot as plt\n",
    "from keras.models import Sequential\n",
    "from keras.layers import LSTM, Dense"
   ]
  },
  {
   "cell_type": "code",
   "execution_count": 2,
   "metadata": {},
   "outputs": [],
   "source": [
    "# OpenDoor의 주가를 Data로 사용\n",
    "data = pd.read_csv('./OPEN.csv')"
   ]
  },
  {
   "cell_type": "code",
   "execution_count": 3,
   "metadata": {},
   "outputs": [
    {
     "name": "stdout",
     "output_type": "stream",
     "text": [
      "[11.1       11.115     11.8625    11.74      11.505     11.26\n",
      " 11.37      11.715     11.845     11.705     11.605     11.575\n",
      " 11.525     11.435     11.645     11.7       11.8       11.49\n",
      " 11.53      11.875     12.01      11.925     12.19      12.12\n",
      " 11.885     11.935     12.09      11.975     11.775     11.535\n",
      " 11.085     11.0025    10.9       11.04      11.045     11.01\n",
      " 11.05      10.99      10.885     10.88      10.995     11.0545\n",
      " 10.96      10.89      10.875     10.825     10.925     10.85\n",
      " 10.805     10.675     10.75      10.82      10.825     11.015\n",
      " 11.1565    11.65      11.905     12.025     12.645     12.63\n",
      " 12.875     16.45      16.235     15.865     15.16      14.88\n",
      " 16.1950005 16.28      15.125     16.075     16.8949995 18.2810005\n",
      " 18.884999  18.665     18.1899995 18.55      17.2975    17.2649995\n",
      " 18.495     20.9750005 23.435     23.3999995 25.34      25.255\n",
      " 23.4650005 22.0699995 22.2750005 22.0500005 20.96      19.285\n",
      " 18.0185005 18.5699995 17.4905005 17.47      16.7350005 16.34\n",
      " 16.5000005 17.6850005 18.735001  19.549999  19.759999  17.9140005\n",
      " 18.1450005 18.26      18.415     19.1449995 18.5200005 18.9799995\n",
      " 19.575     19.4349995 18.9799995 18.785     19.4849995 22.13\n",
      " 22.7       21.5       19.8649995 21.3949995 21.5050005 24.415\n",
      " 25.2       25.89      26.1050005 25.5250005 27.5900005 28.530001\n",
      " 26.3850005 27.745     29.3649995 29.1499995 30.4499995 28.1549995\n",
      " 28.1750005 25.7       23.665     24.4750005 23.3500005 22.79\n",
      " 24.9749995 27.247     28.3795005 27.225     26.375     27.295\n",
      " 27.384999  26.7250005 25.875     26.9675    29.7350005 30.425\n",
      " 29.4849995 27.74      28.4899995 25.6800005 25.5749995 25.5200005\n",
      " 26.4549995 27.6999995 28.4755    28.657001  26.7049995 27.63\n",
      " 29.8249995 33.3310005 36.835001  35.449999  33.7750005 31.420001\n",
      " 30.4300005 32.36      30.17      26.9800005 29.5100005 29.865\n",
      " 27.9749995 30.0950005 31.2250005 30.1824995 26.0050005 20.505\n",
      " 21.2745    21.4700005 23.215     25.785     25.8699995 28.04\n",
      " 28.240001  26.8050005 27.2249995 27.439     27.5515    26.3004995\n",
      " 24.104     21.9099995 22.1449995 21.4099995 19.8950005 21.035\n",
      " 22.1084995 21.42      21.2749995 21.37      20.415     20.4250005\n",
      " 19.657499  20.1050005 20.5025005 19.9910005 18.8599995 17.7650005\n",
      " 16.5975    17.2699995 18.6050005 18.992499  20.4250005 21.5669995\n",
      " 21.525     21.2775005 20.545     19.8899995 18.716499  19.45\n",
      " 18.1025    18.65      17.6000005 16.29      16.09      14.65\n",
      " 14.76     ]\n"
     ]
    }
   ],
   "source": [
    "high_prices = data['High'].values\n",
    "low_prices = data['Low'].values\n",
    "mid_prices = (high_prices + low_prices) / 2\n",
    "\n",
    "print(mid_prices)"
   ]
  },
  {
   "cell_type": "code",
   "execution_count": 4,
   "metadata": {},
   "outputs": [
    {
     "data": {
      "text/plain": [
       "array([11.1   , 11.115 , 11.8625, 11.74  , 11.505 , 11.26  , 11.37  ,\n",
       "       11.715 , 11.845 , 11.705 , 11.605 , 11.575 , 11.525 , 11.435 ,\n",
       "       11.645 , 11.7   , 11.8   , 11.49  , 11.53  , 11.875 , 12.01  ])"
      ]
     },
     "execution_count": 4,
     "metadata": {},
     "output_type": "execute_result"
    }
   ],
   "source": [
    "# 20개의 이전 날짜 Data로 다음날 1개의 데이터를 예측\n",
    "seq_len = 20\n",
    "sequence_len = seq_len + 1\n",
    "\n",
    "# result 한 개의 index에 21개의 데이터를 삽입\n",
    "result = []\n",
    "for index in range(len(mid_prices) - sequence_len):\n",
    "    result.append(mid_prices[index: index + sequence_len])\n",
    "\n",
    "result[0]"
   ]
  },
  {
   "cell_type": "code",
   "execution_count": 5,
   "metadata": {},
   "outputs": [
    {
     "data": {
      "text/plain": [
       "array([0.        , 0.00135135, 0.06869369, 0.05765766, 0.03648649,\n",
       "       0.01441441, 0.02432432, 0.05540541, 0.06711712, 0.0545045 ,\n",
       "       0.0454955 , 0.04279279, 0.03828829, 0.03018018, 0.0490991 ,\n",
       "       0.05405405, 0.06306306, 0.03513514, 0.03873874, 0.06981982,\n",
       "       0.08198198])"
      ]
     },
     "execution_count": 5,
     "metadata": {},
     "output_type": "execute_result"
    }
   ],
   "source": [
    "# 정규화\n",
    "# 첫째날 기준(0)으로 이후 날들의 값을 비율로 계산 \n",
    "normalized_data = []\n",
    "for window in result:\n",
    "    normalized_window = [ (( float(p) / float(window[0])) - 1) for p in window ]\n",
    "    normalized_data.append(normalized_window)\n",
    "    \n",
    "result2 = np.array(normalized_data)\n",
    "result2[0]"
   ]
  },
  {
   "cell_type": "code",
   "execution_count": 6,
   "metadata": {},
   "outputs": [],
   "source": [
    "# 데이터 중 90%만 학습에 사용\n",
    "row = int(round(result2.shape[0] * 0.9))\n",
    "train = result2[:row, :]\n",
    "\n",
    "# 성능을 위해 data를 shuffle\n",
    "np.random.shuffle(train)"
   ]
  },
  {
   "cell_type": "code",
   "execution_count": 7,
   "metadata": {},
   "outputs": [],
   "source": [
    "# 90%의 데이터를 학습에 사용\n",
    "# 1차원 ndarray로 변환\n",
    "x_train = train[:, :-1]\n",
    "# 2차원 ndarray로 변환\n",
    "x_train = np.reshape(x_train, (x_train.shape[0], x_train.shape[1], 1))\n",
    "y_train = train[:, -1]"
   ]
  },
  {
   "cell_type": "code",
   "execution_count": 8,
   "metadata": {},
   "outputs": [],
   "source": [
    "# 10%의 데이터를 테스트에 사용\n",
    "x_test = result2[row:, :-1]\n",
    "x_test = np.reshape(x_test, (x_test.shape[0], x_test.shape[1], 1))\n",
    "y_test = result2[row:, -1]"
   ]
  },
  {
   "cell_type": "code",
   "execution_count": 9,
   "metadata": {},
   "outputs": [],
   "source": [
    "model = Sequential()"
   ]
  },
  {
   "cell_type": "code",
   "execution_count": 10,
   "metadata": {},
   "outputs": [
    {
     "name": "stdout",
     "output_type": "stream",
     "text": [
      "Model: \"sequential\"\n",
      "_________________________________________________________________\n",
      "Layer (type)                 Output Shape              Param #   \n",
      "=================================================================\n",
      "lstm (LSTM)                  (None, 20, 50)            10400     \n",
      "_________________________________________________________________\n",
      "lstm_1 (LSTM)                (None, 64)                29440     \n",
      "_________________________________________________________________\n",
      "dense (Dense)                (None, 1)                 65        \n",
      "=================================================================\n",
      "Total params: 39,905\n",
      "Trainable params: 39,905\n",
      "Non-trainable params: 0\n",
      "_________________________________________________________________\n"
     ]
    }
   ],
   "source": [
    "model.add(LSTM(50, return_sequences=True, input_shape=(20, 1)))\n",
    "model.add(LSTM(64, return_sequences=False))\n",
    "model.add(Dense(1, activation=\"linear\"))\n",
    "model.compile(loss='mse', optimizer='rmsprop')\n",
    "model.summary()"
   ]
  },
  {
   "cell_type": "code",
   "execution_count": 11,
   "metadata": {},
   "outputs": [
    {
     "name": "stdout",
     "output_type": "stream",
     "text": [
      "Epoch 1/20\n",
      "19/19 [==============================] - 14s 58ms/step - loss: 0.0541 - val_loss: 0.0118\n",
      "Epoch 2/20\n",
      "19/19 [==============================] - 0s 9ms/step - loss: 0.0209 - val_loss: 0.0114\n",
      "Epoch 3/20\n",
      "19/19 [==============================] - 0s 9ms/step - loss: 0.0169 - val_loss: 0.0143\n",
      "Epoch 4/20\n",
      "19/19 [==============================] - 0s 9ms/step - loss: 0.0158 - val_loss: 0.0121\n",
      "Epoch 5/20\n",
      "19/19 [==============================] - 0s 9ms/step - loss: 0.0117 - val_loss: 0.0099\n",
      "Epoch 6/20\n",
      "19/19 [==============================] - 0s 10ms/step - loss: 0.0110 - val_loss: 0.0141\n",
      "Epoch 7/20\n",
      "19/19 [==============================] - 0s 10ms/step - loss: 0.0109 - val_loss: 0.0090\n",
      "Epoch 8/20\n",
      "19/19 [==============================] - 0s 9ms/step - loss: 0.0116 - val_loss: 0.0074\n",
      "Epoch 9/20\n",
      "19/19 [==============================] - 0s 10ms/step - loss: 0.0105 - val_loss: 0.0073\n",
      "Epoch 10/20\n",
      "19/19 [==============================] - 0s 10ms/step - loss: 0.0105 - val_loss: 0.0061\n",
      "Epoch 11/20\n",
      "19/19 [==============================] - 0s 10ms/step - loss: 0.0100 - val_loss: 0.0077\n",
      "Epoch 12/20\n",
      "19/19 [==============================] - 0s 10ms/step - loss: 0.0091 - val_loss: 0.0070\n",
      "Epoch 13/20\n",
      "19/19 [==============================] - 0s 9ms/step - loss: 0.0077 - val_loss: 0.0056\n",
      "Epoch 14/20\n",
      "19/19 [==============================] - 0s 11ms/step - loss: 0.0110 - val_loss: 0.0050\n",
      "Epoch 15/20\n",
      "19/19 [==============================] - 0s 9ms/step - loss: 0.0090 - val_loss: 0.0044\n",
      "Epoch 16/20\n",
      "19/19 [==============================] - 0s 10ms/step - loss: 0.0064 - val_loss: 0.0042\n",
      "Epoch 17/20\n",
      "19/19 [==============================] - 0s 9ms/step - loss: 0.0077 - val_loss: 0.0033\n",
      "Epoch 18/20\n",
      "19/19 [==============================] - 0s 9ms/step - loss: 0.0062 - val_loss: 0.0031\n",
      "Epoch 19/20\n",
      "19/19 [==============================] - 0s 9ms/step - loss: 0.0060 - val_loss: 0.0033\n",
      "Epoch 20/20\n",
      "19/19 [==============================] - 0s 10ms/step - loss: 0.0042 - val_loss: 0.0052\n"
     ]
    },
    {
     "data": {
      "text/plain": [
       "<keras.callbacks.History at 0x1ebc97a9100>"
      ]
     },
     "execution_count": 11,
     "metadata": {},
     "output_type": "execute_result"
    }
   ],
   "source": [
    "model.fit(x_train, y_train, validation_data=(x_test, y_test), batch_size=10, epochs=20)"
   ]
  },
  {
   "cell_type": "code",
   "execution_count": 12,
   "metadata": {},
   "outputs": [
    {
     "data": {
      "text/plain": [
       "array([[-2.04553902e-01],\n",
       "       [-2.21411362e-01],\n",
       "       [-2.54390508e-01],\n",
       "       [-2.92976499e-01],\n",
       "       [-3.03647250e-01],\n",
       "       [-2.49489814e-01],\n",
       "       [-1.35441214e-01],\n",
       "       [-1.12578176e-01],\n",
       "       [-2.83440743e-02],\n",
       "       [ 1.07234113e-01],\n",
       "       [ 5.98147884e-02],\n",
       "       [ 2.53979117e-04],\n",
       "       [ 8.95367470e-04],\n",
       "       [-2.45901849e-02],\n",
       "       [-7.41709322e-02],\n",
       "       [-2.27170959e-02],\n",
       "       [-5.79763949e-02],\n",
       "       [-1.73991416e-02],\n",
       "       [-6.85166642e-02],\n",
       "       [-1.38808459e-01],\n",
       "       [-1.45501643e-01]], dtype=float32)"
      ]
     },
     "execution_count": 12,
     "metadata": {},
     "output_type": "execute_result"
    }
   ],
   "source": [
    "pred = model.predict(x_test)\n",
    "pred"
   ]
  },
  {
   "cell_type": "code",
   "execution_count": 13,
   "metadata": {},
   "outputs": [
    {
     "data": {
      "image/png": "[encoded data removed]",
      "text/plain": [
       "<Figure size 432x288 with 1 Axes>"
      ]
     },
     "metadata": {},
     "output_type": "display_data"
    }
   ],
   "source": [
    "fig = plt.figure(facecolor='white')\n",
    "ax = fig.add_subplot(111)\n",
    "ax.plot(y_test, label='True')\n",
    "ax.plot(pred, label='Prediction')\n",
    "ax.legend()\n",
    "plt.show()"
   ]
  }
 ],
 "metadata": {
  "kernelspec": {
   "display_name": "Python 3",
   "language": "python",
   "name": "python3"
  },
  "language_info": {
   "codemirror_mode": {
    "name": "ipython",
    "version": 3
   },
   "file_extension": ".py",
   "mimetype": "text/x-python",
   "name": "python",
   "nbconvert_exporter": "python",
   "pygments_lexer": "ipython3",
   "version": "3.8.5"
  }
 },
 "nbformat": 4,
 "nbformat_minor": 4
}
